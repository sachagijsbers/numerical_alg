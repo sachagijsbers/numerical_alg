{
 "cells": [
  {
   "cell_type": "markdown",
   "id": "eb459a25-a4dd-415c-ba1f-ad86a4367214",
   "metadata": {
    "nbgrader": {
     "grade": false,
     "grade_id": "cell-06d3e5bf55c941ae",
     "locked": true,
     "schema_version": 3,
     "solution": false,
     "task": false
    },
    "tags": []
   },
   "source": [
    "# Homework set 6"
   ]
  },
  {
   "cell_type": "markdown",
   "id": "abe8d273-e303-413d-9abc-3fc0ccfa3595",
   "metadata": {
    "nbgrader": {
     "grade": false,
     "grade_id": "cell-736ff6bc3e0d0696",
     "locked": true,
     "schema_version": 3,
     "solution": false,
     "task": false
    }
   },
   "source": [
    "Before you turn this problem in, make sure everything runs as expected (in the menubar, select Kernel → Restart Kernel and Run All Cells...).\n",
    "\n",
    "Please **submit this Jupyter notebook through Canvas** no later than **Mon Dec. 11, 9:00**. **Submit the notebook file with your answers (as .ipynb file) and a pdf printout. The pdf version can be used by the teachers to provide feedback. A pdf version can be made using the save and export option in the Jupyter Lab file menu.**\n",
    "\n",
    "Homework is in **groups of two**, and you are expected to hand in original work. Work that is copied from another group will not be accepted."
   ]
  },
  {
   "cell_type": "markdown",
   "id": "923083fc-e388-4eb6-8b57-3f256593d94e",
   "metadata": {
    "nbgrader": {
     "grade": false,
     "grade_id": "cell-b13bc5ed16bce8e0",
     "locked": true,
     "schema_version": 3,
     "solution": false,
     "task": false
    }
   },
   "source": [
    "# Exercise 0\n",
    "Write down the names + student ID of the people in your group."
   ]
  },
  {
   "cell_type": "markdown",
   "id": "4785f9c4-829c-4226-b999-948ebf5864a9",
   "metadata": {
    "nbgrader": {
     "grade": true,
     "grade_id": "cell-fd464f55ba436b1c",
     "locked": false,
     "points": 0,
     "schema_version": 3,
     "solution": true,
     "task": false
    }
   },
   "source": [
    "Loes Bijman 15211312\n",
    "\n",
    "Sacha Gijsbers 12798525"
   ]
  },
  {
   "cell_type": "markdown",
   "id": "cf801bfc-3576-4853-8c5f-3f1f5d2a88c4",
   "metadata": {},
   "source": [
    "# About imports\n",
    "Please import the needed packages by yourself."
   ]
  },
  {
   "cell_type": "markdown",
   "id": "ea5293e8-b5f4-42fa-a94d-b764aec592da",
   "metadata": {},
   "source": [
    "# Exercise 1\n",
    "N.B.1 tentative points for each part are: 2+1.5+2+2+1.5 (and one point for free gives 10).\n",
    "\n",
    "N.B.2 you are to implement the methods yourself.\n",
    "\n",
    "Given a function $f$, let $T(f,a,b,m)$ denote the composite trapezoid rule with $m$ subintervals over the interval $[a,b]$. \n",
    "## (a)\n",
    "Approximate the integral of $x^{-3}$ over $[a,b] = [ \\frac{1}{10}, 100 ]$ by the composite trapezoid rule $T(f,a,b,m)$ for $m = 2^k$. Find the smallest $k$ such that the exact error is less than $\\epsilon = 10^{-3}$. Explain the slow convergence."
   ]
  },
  {
   "cell_type": "code",
   "execution_count": 2,
   "id": "56024d22-5826-469f-b9a0-2b83b8eeed17",
   "metadata": {},
   "outputs": [
    {
     "name": "stdout",
     "output_type": "stream",
     "text": [
      "The smallest k that the exact error is less than epsilon = 10^-3 is 18, with an error of 0.00036306889014525723.\n"
     ]
    }
   ],
   "source": [
    "import scipy\n",
    "\n",
    "def function(x):\n",
    "    return x**(-3)\n",
    "\n",
    "def trapezoid_rule(function, a, b, m):\n",
    "    h = (b - a) / m\n",
    "    result = 0.5 * (function(a) + function(b))\n",
    "    for i in range(1, m):\n",
    "        result += function(a + i * h)\n",
    "    return result * h\n",
    "\n",
    "def integral(function, epsilon, a, b, k):\n",
    "    exact_error = 1\n",
    "    exact_integral = scipy.integrate.quad(function, a, b)[0]\n",
    "    while exact_error >= epsilon:        \n",
    "        m = 2**k\n",
    "        approx_integral = trapezoid_rule(function, a, b, m)\n",
    "        exact_error = abs(exact_integral - approx_integral)\n",
    "        k += 1\n",
    "    return k, exact_error\n",
    "\n",
    "epsilon = 1e-3\n",
    "a = 1 / 10\n",
    "b = 100\n",
    "k = 1\n",
    "\n",
    "k_integral, error = integral(function, epsilon, a, b, k)\n",
    "\n",
    "print(f'The smallest k that the exact error is less than epsilon = 10^{-3} is {k_integral - 1}, with an error of {error}.')"
   ]
  },
  {
   "cell_type": "markdown",
   "id": "2518a158-2ab1-412e-bb0c-fe57d53dc6e0",
   "metadata": {},
   "source": [
    "The slow convergence could be caused by the behavior of the function $x^{-3}$, where the values grow rapidly towards infinity as $x$ approaches zero. Therefore, achieving accuracy demands higher precision, requiring smaller subintervals $(m)$ to accurately capture the function's behavior in this region. This leads to slower convergence, especially for values of $x$ near zero."
   ]
  },
  {
   "cell_type": "markdown",
   "id": "da3608cd-207d-4679-8fd1-5ee7611d3929",
   "metadata": {
    "tags": []
   },
   "source": [
    "## (b)\n",
    "\n",
    "To improve the convergence rate of the above problem, we may use an adaptive strategy, as discussed in the book and the lecture. Consider the following formulas for approximate integration\n",
    "$$\\begin{aligned}\n",
    "I_1(f,a,b) = {}& T(f,a,b,1) \\\\\n",
    "I_2(f,a,b) = {}& T(f,a,b,2) .\n",
    "\\end{aligned}$$\n",
    "Show, based on the error estimates for the trapezoid rule using the Taylor series (book example 8.2) that the error in $I_2$ can be estimated by a formula of the form \n",
    "$$E_2 = C (I_1 - I_2)$$\n",
    "and determine the constant $C$ (if you can't find $C$, you may take $C = 0.5$)."
   ]
  },
  {
   "cell_type": "markdown",
   "id": "06fd85c0-225e-497d-bab7-4104add465ca",
   "metadata": {},
   "source": [
    "--------------------------------------------------------\n",
    "We start with the $I_1-I_2$ term. Using the definition of the trapezoid rule, we find  \n",
    "$\\begin{align}\n",
    "    I_1 - I_2 &= \\frac{b-a}{2}\\big(f(a) + f(b)\\big) - \\frac{b-a}{4}\\Big[\\big(f(a) + f(m)\\big) + \\big(f(b) + f(m)\\big)\\Big]\\\\\n",
    "    & = \\frac{b-a}{4}\\big(f(a) + f(b)\\big) - \\frac{b-a}{2}f(m)\n",
    "\\end{align}$\n",
    "\n",
    "We now express $f(a)$ and $f(b)$ in terms of the midpoint ($m = \\frac{a+b}{2}$) using the Taylor expansion around $m$. \n",
    "\n",
    "We observe that $m + \\frac{a-b}{2} = a$ and $m + \\frac{b-a}{2} = b$. We find\n",
    "\n",
    "$\\begin{align}\n",
    "    f(a) = f(m) + \\big(\\frac{a-b}{2}\\big)f'(m) + \\big(\\frac{a-b}{2}\\big)^2\\frac{f''(m)}{2} + \\big(\\frac{a-b}{2}\\big)^3\\frac{f'''(m)}{6} + \\mathcal{O}((a-b)^4) \\\\\n",
    "    f(b) = f(m) + \\big(\\frac{b-a}{2}\\big)f'(m) + \\big(\\frac{b-a}{2}\\big)^2\\frac{f''(m)}{2} + \\big(\\frac{b-a}{2}\\big)^3\\frac{f'''(m)}{6} + \\mathcal{O}((b-a)^4)\n",
    "\\end{align}$\n",
    "\n",
    "As $\\big(\\frac{a-b}{2}\\big)^n + \\big(\\frac{b-a}{2}\\big)^n = 0$ for odd $n$, we observe\n",
    "\n",
    "$f(a) + f(b) = 2f(m) + \\big(\\frac{b-a}{2}\\big)^2f''(m) + \\mathcal{O}((b-a)^4)$\n",
    "\n",
    "Using this expression, we find\n",
    "$\\begin{align}\n",
    "    I_1 - I_2 &=  \\frac{b-a}{4}\\Big[2f(m) + \\big(\\frac{b-a}{2}\\big)^2f''(m) + \\mathcal{O}((b-a)^4)\\Big] - \\frac{b-a}{2}f(m)\\\\\n",
    "    & = \\frac{1}{32}\\Big[(b-a)^3f''(m) + \\mathcal{O}((b-a)^5)\\Big]\n",
    "\\end{align}$\n",
    "\n",
    "Now we determine $E_2$, the error of $I_2$. We have $E_{am} + E_{mb}$, where $m$ is the midpoint. We denote $c = \\frac{3a+b}{4}$ as the middle point of $am$ and $d = \\frac{a+3b}{4}$ as the middle point of $mb$. From example 8.2 we know that \n",
    "\n",
    "$\\begin{align}\n",
    "    E_{am} = 2\\cdot\\frac{f''(c)}{12}(m-a)^3 + \\mathcal{O}((m-a)^5)\\\\\n",
    "    E_{mb} = 2\\cdot\\frac{f''(d)}{12}(b-m)^3 + \\mathcal{O}((b-m)^5)\n",
    "\\end{align}$\n",
    "\n",
    "As $m-a = b-m = \\frac{b-a}{2}$ we find\n",
    "\n",
    "$E_2 = E_{am} + E_{mb} = \\frac{1}{6}\\big(\\frac{b-a}{2}\\big)^3\\big(f''(c)+f''(d)\\big) + \\mathcal{O}((b-a)^5)$\n",
    "\n",
    "We again use a Taylor expansion around $m$ to find expressions for $f''(c)$ and $f''(d)$. Since $m+\\frac{a-b}{4} = \\frac{a+b}{2} + \\frac{a-b}{4} = \\frac{3a+b}{4} = c$ and $m+\\frac{b-a}{4} = \\frac{a+b}{2} + \\frac{b-a}{4} = \\frac{a+3b}{4} = d$, we can write \n",
    "\n",
    "$\\begin{align}\n",
    "    f''(c) = f''(m) + \\big(\\frac{a-b}{4}\\big)f'''(m) + \\big(\\frac{a-b}{4}\\big)^2\\frac{f^{(4)}(m)}{2} + \\mathcal{O}((a-b)^3) \\\\\n",
    "    f''(d) = f''(m) + \\big(\\frac{b-a}{4}\\big)f'''(m) + \\big(\\frac{b-a}{4}\\big)^2\\frac{f^{(4)}(m)}{2} + \\mathcal{O}((b-a)^3)\n",
    "\\end{align}$\n",
    "\n",
    "We thus obtain \n",
    "\n",
    "$f''(c) + f''(d) = 2f''(m) + \\big(\\frac{b-a}{4}\\big)^2f^{(4)}(m) + \\mathcal{O}((b-a)^4)$\n",
    "\n",
    "Substituting this expression in $E_2$ then gives\n",
    "$\\begin{align}\n",
    "    E_2 &= \\frac{1}{6}\\big(\\frac{b-a}{2}\\big)^3\\Big[2f''(m) + \\big(\\frac{b-a}{4}\\big)^2f^{(4)}(m) + \\mathcal{O}((b-a)^4)\\Big] + \\mathcal{O}((b-a)^5)\\\\\n",
    "    &= \\frac{1}{24}\\Big[(b-a)^3f''(m) + \\mathcal{O}((b-a)^5)\\Big]\n",
    "\\end{align}$\n",
    "\n",
    "Therefore, we have $E_2 = C(I_1 - I_2)$ for $C = \\frac{1}{3}$."
   ]
  },
  {
   "cell_type": "markdown",
   "id": "6979c60b-8ecd-45bd-8b88-acecfdd03940",
   "metadata": {},
   "source": [
    "## (c)\n",
    "An adaptive strategy for computing the integral on an interval $[a,b]$ now is: Compute $I_2$ and $E_2$, and accept $I_2$ as an approximation when the estimated error $E_2$ is less or equal than a desired tolerance $\\epsilon$.  Otherwise, apply the procedure to \n",
    "$\\int_a^{\\frac{b+a}{2}} f(x) \\, dx$ and $\\int_{\\frac{b+a}{2}}^b f(x) \\, dx$ with tolerances $\\frac{\\epsilon}{2}$.\n",
    "\n",
    "Write a recursive python routine that implements the adaptive strategy.\n",
    "\n",
    "Then apply this routine to the function $x^{-3}$ with $a, b, \\epsilon$ as before. What is the exact error in the obtained approximation? "
   ]
  },
  {
   "cell_type": "code",
   "execution_count": 4,
   "id": "8f66a8b2-02e4-4ab0-9801-709b3d6d085f",
   "metadata": {},
   "outputs": [
    {
     "name": "stdout",
     "output_type": "stream",
     "text": [
      "The obtained approximation using adaptive strategy is 50.00014849011892, with an estimated error of 0.00019849011894024216.\n"
     ]
    }
   ],
   "source": [
    "def function(x):\n",
    "    return x**(-3)\n",
    "\n",
    "def trapezoid_rule(function, a, b, m):\n",
    "    h = (b - a) / m\n",
    "    result = 0.5 * (function(a) + function(b))\n",
    "    for i in range(1, m):\n",
    "        result += function(a + i * h)\n",
    "    return result * h\n",
    "\n",
    "def adaptive_integral(function, epsilon, a, b):\n",
    "    I1 = trapezoid_rule(function, a, b, 1)\n",
    "    I2 = trapezoid_rule(function, a, b, 2)\n",
    "    E2 = 1/3 * (I1 - I2)\n",
    "\n",
    "    if E2 > epsilon:\n",
    "        midpoint = (a + b) / 2\n",
    "        left_integral = adaptive_integral(function, epsilon / 2, a, midpoint)\n",
    "        right_integral = adaptive_integral(function, epsilon / 2, midpoint, b)\n",
    "        return left_integral + right_integral\n",
    "\n",
    "    return I2\n",
    "\n",
    "epsilon = 1e-3\n",
    "a = 1 / 10\n",
    "b = 100\n",
    "\n",
    "approx = adaptive_integral(function, epsilon, a, b)\n",
    "exact_integral = scipy.integrate.quad(function, a, b)[0]\n",
    "error = abs(exact_integral - approx)\n",
    "print(f'The obtained approximation using adaptive strategy is {approx}, with an estimated error of {error}.')"
   ]
  },
  {
   "cell_type": "markdown",
   "id": "38054a2a-24b4-4467-8dad-4ad193400213",
   "metadata": {},
   "source": [
    "## (d)\n",
    "Modify the code of (c) so that the number of function evaluations is counted and that no unnecessary function evaluations are performed. Compare the number of function evaluations used in the adaptive strategy of (c) with the result of (a). \n",
    "(*Hint*: To count the number of function evaluations, you may use a global variable that is incremented by the function each time it is called.)"
   ]
  },
  {
   "cell_type": "code",
   "execution_count": 10,
   "id": "ed67a5aa-dba3-4da9-bb32-6f2a49096b30",
   "metadata": {},
   "outputs": [
    {
     "name": "stdout",
     "output_type": "stream",
     "text": [
      "Number of function evaluations in unadapted strategy (a): 524703\n",
      "Number of function evaluations in adaptive strategy (c): 71394\n",
      "The strategy in (a) uses 7.35 more evaluations then the adaptive strategy from (c)\n"
     ]
    }
   ],
   "source": [
    "import numpy as np\n",
    "\n",
    "def function(x):\n",
    "    global function_evals\n",
    "    function_evals += 1\n",
    "    return x**(-3)\n",
    "\n",
    "def trapezoid_rule(function, a, b, m):\n",
    "    h = (b - a) / m\n",
    "    result = 0.5 * (function(a) + function(b))\n",
    "    for i in range(1, m):\n",
    "        result += function(a + i * h)\n",
    "    return result * h\n",
    "\n",
    "def integral(function, epsilon, a, b, k):\n",
    "    exact_error = 1\n",
    "    exact_integral = scipy.integrate.quad(function, a, b)[0]\n",
    "    while exact_error >= epsilon:        \n",
    "        m = 2**k\n",
    "        approx_integral = trapezoid_rule(function, a, b, m)\n",
    "        exact_error = abs(exact_integral - approx_integral)\n",
    "        k += 1\n",
    "    return k, exact_error\n",
    "\n",
    "def adaptive_integral(function, epsilon, a, b):\n",
    "    global function_evals\n",
    "    function_evals += 1\n",
    "    I1 = trapezoid_rule(function, a, b, 1)\n",
    "    I2 = trapezoid_rule(function, a, b, 2)\n",
    "    E2 = 0.5 * (I1 - I2)\n",
    "\n",
    "    if E2 > epsilon:\n",
    "        midpoint = (a + b) / 2\n",
    "        left_integral, left_error = adaptive_integral(function, epsilon / 2, a, midpoint)\n",
    "        right_integral, right_error = adaptive_integral(function, epsilon / 2, midpoint, b)\n",
    "        return left_integral + right_integral, left_error + right_error\n",
    "\n",
    "    return I2, E2 \n",
    "\n",
    "epsilon = 1e-3\n",
    "a = 1 / 10\n",
    "b = 100\n",
    "\n",
    "function_evals = 0\n",
    "k_integral, a_error = integral(function, epsilon, a, b, k)\n",
    "function_evals_a = function_evals\n",
    "print(f'Number of function evaluations in unadapted strategy (a): {function_evals_a}')\n",
    "\n",
    "function_evals = 0\n",
    "c_approx, c_error = adaptive_integral(function, epsilon, a, b)\n",
    "function_evals_c = function_evals\n",
    "print(f'Number of function evaluations in adaptive strategy (c): {function_evals_c}')\n",
    "\n",
    "print(f'The strategy in (a) uses {np.round(function_evals_a/function_evals_c, 2)} more evaluations then the adaptive strategy from (c)')"
   ]
  },
  {
   "cell_type": "markdown",
   "id": "280bce8f-5bb7-4900-9813-6b29149dd011",
   "metadata": {},
   "source": [
    "The adaptive strategy from (c) uses less function evaluations, then the result of (a). Approximately 7,35 times less then the result of (a). The less evaluations the better the strategy, with lower computing power. Therefor (a) performs more unnecessary functions."
   ]
  },
  {
   "cell_type": "markdown",
   "id": "5d3709eb-4f5e-493a-865f-31f31510ea5e",
   "metadata": {},
   "source": [
    "## (e)\n",
    "In the course of executing the recursive procedure, some subintervals are refined (split in two subintervals) while others aren't as a result of the choices made by the algorithm. It turns out that the choices made by this algorithm are not always optimal. Other algorithms, that decide in a different way which subinterval needs to be refined, may be more efficient in the sense that they require less function evaluations (while using the same formulas for the approximate integral and the approximate error associated with a subinterval).\n",
    "\n",
    "Can you explain why this is the case? Discuss briefly possible alternative approaches.\n"
   ]
  },
  {
   "cell_type": "markdown",
   "id": "4384b2a4-1738-440c-bc1a-9531dca3e126",
   "metadata": {},
   "source": [
    "A reason for suboptimal choices could be that the algorithm used for refinement might not adequately consider the local behavior of the function within each subinterval. This may lead to overly conservative or aggressive refinements, splitting intervals that don't necessarily need further subdivision or neglecting areas that require more attention. As the closer the the $x$ get's to zero the more it converges to infinity, thereby needing smaller subintervals, while further away from 0 the subintervals can be much bigger.\n",
    "\n",
    "Alternative approaches could aim to optimize the selection of subintervals by considering local properties of the function, refining areas that need more attention, and reducing unnecessary function evaluations to enhance the efficiency of adaptive quadrature methods. Here the integrand will be sampled densely where it is difficult to integrate and sparsely where it is easy. "
   ]
  }
 ],
 "metadata": {
  "kernelspec": {
   "display_name": "Python 3 (ipykernel)",
   "language": "python",
   "name": "python3"
  },
  "language_info": {
   "codemirror_mode": {
    "name": "ipython",
    "version": 3
   },
   "file_extension": ".py",
   "mimetype": "text/x-python",
   "name": "python",
   "nbconvert_exporter": "python",
   "pygments_lexer": "ipython3",
   "version": "3.12.0"
  }
 },
 "nbformat": 4,
 "nbformat_minor": 5
}
