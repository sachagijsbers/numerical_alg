{
 "cells": [
  {
   "cell_type": "markdown",
   "id": "d4c81d3e-6c35-4c9e-9721-dc27a3d00251",
   "metadata": {
    "nbgrader": {
     "grade": false,
     "grade_id": "cell-06d3e5bf55c941ae",
     "locked": true,
     "schema_version": 3,
     "solution": false,
     "task": false
    },
    "tags": []
   },
   "source": [
    "# Homework set 4"
   ]
  },
  {
   "cell_type": "markdown",
   "id": "64728360-8bed-4d1f-bb87-bf746ea66002",
   "metadata": {
    "nbgrader": {
     "grade": false,
     "grade_id": "cell-736ff6bc3e0d0696",
     "locked": true,
     "schema_version": 3,
     "solution": false,
     "task": false
    }
   },
   "source": [
    "Before you turn this problem in, make sure everything runs as expected (in the menubar, select Kernel → Restart Kernel and Run All Cells...).\n",
    "\n",
    "Please **submit this Jupyter notebook through Canvas** no later than **Mon Nov. 27, 9:00**. **Submit the notebook file with your answers (as .ipynb file) and a pdf printout. The pdf version can be used by the teachers to provide feedback. A pdf version can be made using the save and export option in the Jupyter Lab file menu.**\n",
    "\n",
    "Homework is in **groups of two**, and you are expected to hand in original work. Work that is copied from another group will not be accepted."
   ]
  },
  {
   "cell_type": "markdown",
   "id": "d8c33491-f6d6-45df-9857-8fae1d7d446c",
   "metadata": {
    "nbgrader": {
     "grade": false,
     "grade_id": "cell-b13bc5ed16bce8e0",
     "locked": true,
     "schema_version": 3,
     "solution": false,
     "task": false
    }
   },
   "source": [
    "# Exercise 0\n",
    "Write down the names + student ID of the people in your group."
   ]
  },
  {
   "cell_type": "markdown",
   "id": "9483e0d9-7aec-4521-90ac-761fb34ee023",
   "metadata": {
    "nbgrader": {
     "grade": true,
     "grade_id": "cell-fd464f55ba436b1c",
     "locked": false,
     "points": 0,
     "schema_version": 3,
     "solution": true,
     "task": false
    }
   },
   "source": [
    "Loes Bijman 15211312\n",
    "\n",
    "Sacha Gijsbers 12798525"
   ]
  },
  {
   "cell_type": "markdown",
   "id": "40a6166f-8dc2-4eb0-b953-961fe8f7a2ce",
   "metadata": {},
   "source": [
    "# About imports\n",
    "Please import the needed packages by yourself."
   ]
  },
  {
   "cell_type": "markdown",
   "id": "a78e262c-f192-4fe5-853b-03248173a9be",
   "metadata": {},
   "source": [
    "# Sparse matrices\n",
    "A _sparse matrix_ or _sparse array_ is a matrix in which most of the elements are zero. There is no strict definition how many elements need to be zero for a matrix to be considered sparse. In many examples, the number of nonzeros per row or column is a small fraction, a few percent or less, of the total number of elements of the row or column. By contrast, if most of the elements are nonzero, then the matrix is considered _dense_. \n",
    "\n",
    "In the context of software for scientific computing, a sparse matrix typically refers to a storage format, in which elements which are known to be zero are not stored. In Python, the library `scipy.sparse` defines several sparse matrix classes, such as `scipy.sparse.csr_array`. To construct such an object, one passes for each nonzero element the value, and the row and column coordinates. In some cases, one can also just pass the nonzero (off-)diagonals, see `scipy.sparse.diags`.\n",
    "\n",
    "Functions for dense matrices do not always work with sparse matrices. For example for the product of a sparse matrix with a (dense) vector, there is the member function `scipy.sparse.csr_array.dot`, and for solving linear equations involving a sparse matrix, there is the function `scipy.sparse.linalg.spsolve`."
   ]
  },
  {
   "cell_type": "code",
   "execution_count": 1,
   "id": "a15365c2-c8be-49b7-b74f-e6ef30ffd26d",
   "metadata": {},
   "outputs": [],
   "source": [
    "# Import some basic packages\n",
    "import numpy as np\n",
    "import matplotlib.pyplot as plt\n",
    "import math"
   ]
  },
  {
   "cell_type": "code",
   "execution_count": 2,
   "id": "5af47d5f-d55a-4902-b99c-9ce793726c32",
   "metadata": {},
   "outputs": [
    {
     "name": "stdout",
     "output_type": "stream",
     "text": [
      "When printing a sparse matrix, it shows its nonzero entries:\n",
      "  (0, 0)\t4.0\n",
      "  (0, 2)\t9.0\n",
      "  (1, 1)\t7.0\n",
      "  (3, 3)\t5.0\n",
      "If you want to see its `dense` matrix form, you have to use `mat.toarray()`:\n",
      "[[4. 0. 9. 0.]\n",
      " [0. 7. 0. 0.]\n",
      " [0. 0. 0. 0.]\n",
      " [0. 0. 0. 5.]]\n",
      "For x=[1 2 3 4], Mx = [31. 14.  0. 20.]\n"
     ]
    }
   ],
   "source": [
    "from scipy.sparse import csr_array\n",
    "\n",
    "# This is how to create a sparse matrix from a given list of (row, column, value) tuples.\n",
    "row  = [0,   3,   1,   0]\n",
    "col  = [0,   3,   1,   2]\n",
    "data = [4.0, 5.0, 7.0, 9.0]\n",
    "M = csr_array((data, (row, col)), shape=(4, 4))\n",
    "\n",
    "print(\"When printing a sparse matrix, it shows its nonzero entries:\")\n",
    "print(M)\n",
    "\n",
    "print(\"If you want to see its `dense` matrix form, you have to use `mat.toarray()`:\")\n",
    "print(M.toarray())\n",
    "\n",
    "# This is how to perform matrix-vector products.\n",
    "x = np.array([1, 2, 3, 4])\n",
    "print(\"For x={}, Mx = {}\".format(x, M.dot(x)))"
   ]
  },
  {
   "cell_type": "code",
   "execution_count": 3,
   "id": "7f1c616d-9651-4da7-94fc-3e53f2362250",
   "metadata": {},
   "outputs": [
    {
     "name": "stdout",
     "output_type": "stream",
     "text": [
      "This matrix has values on its diagonal and on offdiagonals 1 and 2 rows ABOVE it.\n",
      "[[1. 1. 1. 0.]\n",
      " [0. 2. 2. 2.]\n",
      " [0. 0. 3. 3.]\n",
      " [0. 0. 0. 4.]]\n",
      "This matrix has values on its diagonal and on offdiagonals 1 and 2 rows BELOW it.\n",
      "[[1. 0. 0. 0.]\n",
      " [1. 2. 0. 0.]\n",
      " [1. 2. 3. 0.]\n",
      " [0. 2. 3. 4.]]\n",
      "If you want to visualize the matrix for yourself, use `plt.imshow`:\n"
     ]
    },
    {
     "data": {
      "image/png": "[encoded data removed]",
      "text/plain": [
       "<Figure size 640x480 with 2 Axes>"
      ]
     },
     "metadata": {},
     "output_type": "display_data"
    },
    {
     "name": "stdout",
     "output_type": "stream",
     "text": [
      "For b=[1 2 3 4], the solution x to Mx=b is [1.         0.5        0.33333333 0.5       ]\n",
      "And indeed, Mx - b = [0. 0. 0. 0.]\n"
     ]
    }
   ],
   "source": [
    "from scipy.sparse import diags, SparseEfficiencyWarning\n",
    "from scipy.sparse.linalg import spsolve\n",
    "import warnings\n",
    "warnings.simplefilter('ignore', SparseEfficiencyWarning)  # Suppress confusing warning\n",
    "\n",
    "# This is how to create a sparse matrix from a given list of subdiagonals.\n",
    "diagonals = [[1, 2, 3, 4], [1, 2, 3], [1, 2]]\n",
    "M = diags(diagonals, [0, 1, 2])\n",
    "print(\"This matrix has values on its diagonal and on offdiagonals 1 and 2 rows ABOVE it.\")\n",
    "print(M.toarray())\n",
    "\n",
    "M = diags(diagonals, [0, -1, -2])\n",
    "print(\"This matrix has values on its diagonal and on offdiagonals 1 and 2 rows BELOW it.\")\n",
    "print(M.toarray())\n",
    "\n",
    "print(\"If you want to visualize the matrix for yourself, use `plt.imshow`:\")\n",
    "plt.imshow(M.toarray())\n",
    "plt.colorbar()\n",
    "plt.show()\n",
    "\n",
    "# This is how to solve sparse systems.\n",
    "b = np.array([1, 2, 3, 4])\n",
    "x = spsolve(M, b)\n",
    "print(\"For b={}, the solution x to Mx=b is {}\".format(b, x))\n",
    "print(\"And indeed, Mx - b = {}\".format(M.dot(x) - b))"
   ]
  },
  {
   "cell_type": "markdown",
   "id": "972d8aca-b5f4-48a5-8a43-f3dccb0ea9ef",
   "metadata": {},
   "source": [
    "--------\n",
    "# Exercise 1\n",
    "Consider the following boundary value problem involving a nonlinear ordinary differential equation:\n",
    "\n",
    "$$ \\tag{1} y''(x) + \\exp(y(x)) = 0, \\quad 0 < x < 1, \\quad y(0) = y(1) = 0.$$\n",
    "\n",
    "The purpose of this exercise is to approximate the solution to this boundary value problem, by discretizing the problem and then solving the resulting system of nonlinear equations. "
   ]
  },
  {
   "cell_type": "markdown",
   "id": "cb770a03-ba0f-4de2-b326-c429868fa1ac",
   "metadata": {},
   "source": [
    "Problem (1) will be discretized using finite differences. Suppose we use $n+2$ discretization points for $x$, denoted $x_k = kh$ for $k \\in \\{0, \\ldots, n+1\\}$ and $h = 1/(n+1)$. The approximate solution is denoted $y_k = y(x_k)$. \n",
    "\n",
    "We will use a _second-order central finite difference_ approximation for the second derivative: \n",
    "\n",
    "$$ \\tag{2} y''(x_k) \\approx \\frac{y_{k-1} - 2 y_k + y_{k+1}}{h^2}.$$\n",
    "\n",
    "The term $\\exp(y(x_k))$ can simply be approximated by $\\exp(y_k)$. Thus for $x=x_k$, equation (1) becomes\n",
    "\n",
    "$$ \\tag{3} \\frac{y_{k-1} - 2 y_k + y_{k+1}}{h^2} + \\exp y_k = 0, \\quad k = 1, \\ldots, n.$$\n",
    "\n",
    "The boundary conditions (the conditions $y(0) = y(1) = 1$), lead to the requirement that $y_0 = y_{n+1} = 0$. To find the remaining values $y_k$, $k=1, \\ldots, n$, equation (3) will be used for $k = 1, \\ldots, n$. In this way, one obtains $n$ equations for $n$ unknowns, to which, in principle, a rootfinding method can be applied.\n",
    "\n",
    "We will write $\\vec y = \\begin{bmatrix} y_1 \\\\ \\vdots \\\\ y_n \\end{bmatrix}$ for the vector of values to be determined. \n"
   ]
  },
  {
   "cell_type": "markdown",
   "id": "7c341388-63b4-4b7a-aeaf-9dcf4173cefc",
   "metadata": {},
   "source": [
    "## (a)  (2 pts)\n",
    "As a first step, finish the function `SecondDerMatrix` that returns a matrix $\\bf{M}$ that maps the vector $\\vec y$ to the vector of the approximate values $y''(x_k)$, $k=1, \\ldots, n$ given in (2). To get full points for this part of the exercise you must create output in the form of a sparse matrix."
   ]
  },
  {
   "cell_type": "code",
   "execution_count": 4,
   "id": "dcbf2b55-d129-4cbe-a517-416c2682d8d5",
   "metadata": {},
   "outputs": [
    {
     "name": "stdout",
     "output_type": "stream",
     "text": [
      "[[-162.   81.    0.    0.    0.    0.    0.    0.]\n",
      " [  81. -162.   81.    0.    0.    0.    0.    0.]\n",
      " [   0.   81. -162.   81.    0.    0.    0.    0.]\n",
      " [   0.    0.   81. -162.   81.    0.    0.    0.]\n",
      " [   0.    0.    0.   81. -162.   81.    0.    0.]\n",
      " [   0.    0.    0.    0.   81. -162.   81.    0.]\n",
      " [   0.    0.    0.    0.    0.   81. -162.   81.]\n",
      " [   0.    0.    0.    0.    0.    0.   81. -162.]]\n"
     ]
    }
   ],
   "source": [
    "from scipy.sparse import csr_array\n",
    "\n",
    "def SecondDerMatrix(n):\n",
    "    '''\n",
    "    Creates matrix M that maps any vector y to the vector of approximate values for the second derivative,\n",
    "    using the finite differences approximation. This matrix assumes that the boundary conditions are \n",
    "    y(0) = y(1) = 0.\n",
    "    Input: n(int), size of the matrix\n",
    "    Output: sparse matrix M\n",
    "    '''\n",
    "    h = 1/(n+1)\n",
    "    diagonals = [(n)*[-2], (n-1)*[1], (n-1)*[1]]\n",
    "    M = diags(diagonals, [0, 1, -1])\n",
    "    M /= h**2\n",
    "    return M\n",
    "\n",
    "print(SecondDerMatrix(8).toarray())"
   ]
  },
  {
   "cell_type": "markdown",
   "id": "402404a4-8673-4529-b452-94c05e994cf2",
   "metadata": {},
   "source": [
    "## (b)  (1 pt)\n",
    "Second-order central finite differences are exact for quadratic functions. In order to test your implementation, choose $n=10$ and apply the second derivative matrix from part (a) to a quadratic function $y(x)$ with $y(0) = y(1) = 0$ for which you know the second derivative $y''(x)$."
   ]
  },
  {
   "cell_type": "code",
   "execution_count": 5,
   "id": "dea2b67c-4c28-42f3-9555-fdc2795741ab",
   "metadata": {},
   "outputs": [
    {
     "name": "stdout",
     "output_type": "stream",
     "text": [
      "[[-242.  121.    0.    0.    0.    0.    0.    0.    0.    0.]\n",
      " [ 121. -242.  121.    0.    0.    0.    0.    0.    0.    0.]\n",
      " [   0.  121. -242.  121.    0.    0.    0.    0.    0.    0.]\n",
      " [   0.    0.  121. -242.  121.    0.    0.    0.    0.    0.]\n",
      " [   0.    0.    0.  121. -242.  121.    0.    0.    0.    0.]\n",
      " [   0.    0.    0.    0.  121. -242.  121.    0.    0.    0.]\n",
      " [   0.    0.    0.    0.    0.  121. -242.  121.    0.    0.]\n",
      " [   0.    0.    0.    0.    0.    0.  121. -242.  121.    0.]\n",
      " [   0.    0.    0.    0.    0.    0.    0.  121. -242.  121.]\n",
      " [   0.    0.    0.    0.    0.    0.    0.    0.  121. -242.]]\n",
      "[-0.41322314049586784, -0.7438016528925621, -0.9917355371900827, -1.15702479338843, -1.2396694214876034, -1.2396694214876034, -1.1570247933884295, -0.9917355371900829, -0.7438016528925613, -0.4132231404958677]\n",
      "[10. 10. 10. 10. 10. 10. 10. 10. 10. 10.]\n"
     ]
    }
   ],
   "source": [
    "def QuadraticFunction(x):\n",
    "    return 5*x**2 - 5*x\n",
    "\n",
    "n = 10\n",
    "h = 1/(n+1)\n",
    "\n",
    "y = []\n",
    "for k in range(1,n+1):\n",
    "    x = k*h\n",
    "    y.append(QuadraticFunction(x))\n",
    "\n",
    "M = SecondDerMatrix(n)\n",
    "print(M.toarray())\n",
    "print(y)\n",
    "print(M.dot(y))"
   ]
  },
  {
   "cell_type": "markdown",
   "id": "3c6b937a-a06a-4d24-ae49-d036ef88ba03",
   "metadata": {},
   "source": [
    "## (c) (2 pts)\n",
    "\n",
    "Defining $\\vec y = \\begin{bmatrix} y_1 \\\\ \\vdots \\\\ y_n \\end{bmatrix}$ and \n",
    "$E(\\vec y) = \\begin{bmatrix} \\exp(y_1) \\\\ \\vdots \\\\ \\exp(y_n) \\end{bmatrix}$, the equations (3) can be written in the form\n",
    "\n",
    "$$ F(\\vec y) := {\\bf M} \\cdot \\vec y + E(\\vec y) = \\vec 0. $$\n",
    "\n",
    "Finish the function `F` that defines $F(\\vec y) = {\\bf M} \\cdot \\vec y + E(\\vec y)$.\n",
    "Finish the function `JacobianF` that computes the Jacobian ${\\bf J}_F(\\vec y)$ of $F(\\vec y)$.\n",
    "To get full points for this part of the exercise, the Jacobian must be computed in the form of a sparse matrix."
   ]
  },
  {
   "cell_type": "code",
   "execution_count": 6,
   "id": "f693cfc3-9639-419a-b8f8-5179c3e60123",
   "metadata": {},
   "outputs": [
    {
     "name": "stdout",
     "output_type": "stream",
     "text": [
      "[  2.71828183   7.3890561  -51.91446308   7.3890561    2.71828183]\n",
      "[[-69.28171817  36.           0.           0.           0.        ]\n",
      " [ 36.         -64.6109439   36.           0.           0.        ]\n",
      " [  0.          36.         -51.91446308  36.           0.        ]\n",
      " [  0.           0.          36.         -64.6109439   36.        ]\n",
      " [  0.           0.           0.          36.         -69.28171817]]\n"
     ]
    }
   ],
   "source": [
    "def F(y):\n",
    "    M = SecondDerMatrix(len(y))\n",
    "    Ey = np.exp(np.array(y))\n",
    "    return M.dot(y) + Ey\n",
    "\n",
    "def JacobianF(y):\n",
    "    n = len(y)\n",
    "    h = 1/(n+1)\n",
    "    diag_list = []\n",
    "    for yi in y:\n",
    "        diag_list.append((1/h**2)*(-2) + math.exp(yi))\n",
    "    diagonals = [diag_list, (n-1)*[1/h**2], (n-1)*[1/h**2]]\n",
    "    J = diags(diagonals, [0, 1, -1])\n",
    "    return J\n",
    "\n",
    "y = [1,2,3,2,1]\n",
    "print(F(y))\n",
    "print(JacobianF(y).toarray())"
   ]
  },
  {
   "cell_type": "markdown",
   "id": "8da07053-496c-4e60-a278-422c113ff702",
   "metadata": {},
   "source": [
    "## (d)  (3 pts)\n",
    "1. Write down the first order Taylor expansion $T_F(\\vec y, \\vec s)$ for $F(\\vec y+\\vec s)$.\n",
    "2. In order to check your implementation of the Jacobian matrix, compute and print both $F(\\vec y+\\vec s)$ and its first order Taylor approximation $T_F(\\vec y, \\vec s)$ for a choice $\\vec y$ and $\\vec s$.\n",
    "3. Verify numerically that the error $||F(\\vec y + \\vec s) - T_F(\\vec y, \\vec s)||_2$ is $\\mathcal O(||\\vec s||_2^2)$. Hint: take vectors $\\vec s$ with $\\|\\vec s\\|_2 = \\mathcal O(h)$  for multiple values for $h$, e.g. $h = 10^{-k}$ for a range of $k$. "
   ]
  },
  {
   "cell_type": "markdown",
   "id": "48d3fd40-cff8-40b6-8e6e-5aa2a48fd4e0",
   "metadata": {},
   "source": [
    "Subquestion 1.\n",
    "\n",
    "The first order Taylor expansion for $F(\\vec y+\\vec s)$ is given by: $F(\\vec y+\\vec s) \\approx F(\\vec y) + J_F(\\vec y) \\cdot \\vec s$. Therefore, we have\n",
    "\n",
    "\\begin{align*}\n",
    "    T_F(\\vec y, \\vec s) &= F(\\vec y) + J_F(\\vec y) \\cdot \\vec s \\\\\n",
    "    &= {\\bf M} \\cdot \\vec y + E(\\vec y) + J_F(\\vec y) \\cdot \\vec s \\\\\n",
    "    &= \\begin{bmatrix} \\frac{1}{h^2}(-2y_1+y_2) \\\\ \\frac{1}{h^2}(y_1-2y_2+y_3) \\\\ \\vdots \\\\ \\frac{1}{h^2}(y_{n-2}-2y_{n-1}+y_n)\\\\ \\frac{1}{h^2}(y_{n-1}-2y_n)\\end{bmatrix} + \\begin{bmatrix} e^{y_1} \\\\ e^{y_2} \\\\ \\vdots \\\\ e^{y_{n-1}}\\\\e^{y_n}\\end{bmatrix} + \\begin{bmatrix} \\frac{2}{h^2} + e^{y_1} & \\frac{1}{h^2} & 0 & \\dots & 0 \\\\ \\frac{1}{h^2} & \\frac{2}{h^2} + e^{y_2} & \\frac{1}{h^2} &\\dots & 0 \\\\ 0 & \\ddots & \\ddots & \\ddots &\\vdots \\\\ \\vdots & & \\frac{1}{h^2} &\\frac{2}{h^2} + e^{y_{n-1}} & \\frac{1}{h^2}& \\\\ 0 & \\dots & 0 & \\frac{1}{h^2} & \\frac{2}{h^2} + e^{y_n} \\end{bmatrix} \\begin{bmatrix} s_1 \\\\ s_2 \\\\ \\vdots \\\\ s_{n-1} \\\\ s_n \\end{bmatrix} \\\\\n",
    "    &= {\\bf M} \\cdot \\vec y + E(\\vec y) + {\\bf M}\\cdot \\vec s + E(\\vec y)\\cdot \\vec s^T\n",
    "\\end{align*}\n"
   ]
  },
  {
   "cell_type": "code",
   "execution_count": 7,
   "id": "bb9cb01a-1fca-400f-b860-c4efaceada23",
   "metadata": {},
   "outputs": [
    {
     "name": "stdout",
     "output_type": "stream",
     "text": [
      "T_F(y,s) = [  2.38546465   7.46294666 -51.71360771   7.46294666   2.38546465]\n",
      "F(y+s) = [  2.38560102   7.46331735 -51.71260007   7.46331735   2.38560102]\n",
      "[0.9999999999999998, 0.009999999999999995, 0.0001, 1e-06, 1e-08, 1.0000000000000002e-10, 1e-12, 9.999999999999998e-15, 1.0000000000000001e-16, 1e-18, 1.0000000000000001e-20]\n",
      "[485.50991502569156, 4.403382566259102, 0.043616858204482134, 0.00043575487691715163, 4.357135051294295e-06, 4.3563044426600625e-08, 4.3330658480417245e-10, 9.6611339270968e-12, 1.0180810756198736e-12, 6.77605788862772e-12, 9.10599483307802e-13]\n"
     ]
    },
    {
     "data": {
      "image/png": "[encoded data removed]",
      "text/plain": [
       "<Figure size 640x480 with 1 Axes>"
      ]
     },
     "metadata": {},
     "output_type": "display_data"
    }
   ],
   "source": [
    "# Subquestions 2 and 3.\n",
    "\n",
    "# 2\n",
    "def T_F(y,s):\n",
    "    return F(y) + JacobianF(y).dot(s)\n",
    "\n",
    "# Veryify with a choice of y and s\n",
    "y = np.array([1,2,3,2,1])\n",
    "s = np.array([0.01,0.01,0.01,0.01,0.01])\n",
    "print(f\"T_F(y,s) = {T_F(y,s)}\")\n",
    "print(f\"F(y+s) = {F(y+s)}\")\n",
    "\n",
    "# 3\n",
    "n = 10 # length of s and y\n",
    "y = np.array(range(0,n))\n",
    "s = np.ones(n)\n",
    "s_norm = np.linalg.norm(s)\n",
    "\n",
    "error_list = []\n",
    "norm_s_list = []\n",
    "h_list = []\n",
    "\n",
    "for k in range(0,11):\n",
    "    h = 10**(-k)\n",
    "    # create s with the right norm\n",
    "    new_s = h/s_norm * s\n",
    "\n",
    "    h_list.append(h)\n",
    "    norm_s_list.append(np.linalg.norm(new_s)**2)\n",
    "    error_list.append(np.linalg.norm(F(y+new_s) - T_F(y,new_s)))\n",
    "\n",
    "print(norm_s_list)\n",
    "print(error_list)\n",
    "\n",
    "plt.loglog(h_list, error_list, label = '$|| F(\\\\vec y +\\\\vec s) - T_F(\\\\vec y,\\\\vec s)||_2$')\n",
    "plt.loglog(h_list, norm_s_list, label = '$(||s||_2)^2$')\n",
    "plt.xlabel('$||s||_2$')\n",
    "plt.title('Error of the first order Taylor approximation compared to $||s||_2$')\n",
    "plt.legend()\n",
    "plt.show()"
   ]
  },
  {
   "cell_type": "markdown",
   "id": "c594be9d-8265-4aa0-aa7d-bd9f30e167aa",
   "metadata": {},
   "source": [
    "## (e) (2 pts)\n",
    "1. Finish the function `NewtonSolve` below to solve the system of equations.\n",
    "2. Take $n=40$, and experiment with your function. Try to find a choice of `y0` such that the method doesn't converge, as well as a choice of `y0` such that the method converges. In your answer, list the types of convergence behavior you found. Show a convergent example (if you found any) and a nonconvergent example (if you found any). Show the solutions you found for each example."
   ]
  },
  {
   "cell_type": "code",
   "execution_count": 8,
   "id": "c5adc7dd-783d-4849-b84c-94da20631c9f",
   "metadata": {},
   "outputs": [
    {
     "name": "stdout",
     "output_type": "stream",
     "text": [
      "[0.10544867 0.14144676 0.10544867]\n"
     ]
    }
   ],
   "source": [
    "# Subquestion 1.\n",
    "def NewtonSolve(y0, K):\n",
    "    \"\"\" Use Newton's method to solve F(y) = 0 with initial guess y0 and K iterations. \n",
    "    Input: y0 (initial guess), K 9number of iterations\n",
    "    Output: approximate solution to the root problem \"\"\"\n",
    "    y = y0\n",
    "    for _ in range(K):\n",
    "        sk = spsolve(JacobianF(y), -F(y))\n",
    "        y += sk\n",
    "    return y\n",
    "\n",
    "y0 = [1,2,1]\n",
    "K = 10\n",
    "print(NewtonSolve(y0,K))"
   ]
  },
  {
   "cell_type": "code",
   "execution_count": 12,
   "id": "9ce50cda-6dcd-4d97-a0d3-2c185ce88875",
   "metadata": {},
   "outputs": [
    {
     "name": "stdout",
     "output_type": "stream",
     "text": [
      "[0 1 2 3 4 5 6 7 8 9]\n"
     ]
    },
    {
     "data": {
      "image/png": "[encoded data removed]",
      "text/plain": [
       "<Figure size 640x480 with 1 Axes>"
      ]
     },
     "metadata": {},
     "output_type": "display_data"
    }
   ],
   "source": [
    "# Subquestion 2, code part\n",
    "from decimal import Decimal\n",
    "\n",
    "# y0 = [2.0, -1.0, 3.0, 0.5]\n",
    "y0 = np.ones(4)\n",
    "\n",
    "K = 100\n",
    "\n",
    "newton_iterations = []\n",
    "\n",
    "for k in range(K):\n",
    "    newton_iterations.append(np.linalg.norm(NewtonSolve(y0, K)))\n",
    "    \n",
    "plt.plot(range(K), newton_iterations)\n",
    "print(y)"
   ]
  },
  {
   "cell_type": "markdown",
   "id": "441c242a-ec62-4761-b3d5-1aaf00ed3ab2",
   "metadata": {},
   "source": [
    "Subquestion 2, text part YOUR ANSWER HERE"
   ]
  }
 ],
 "metadata": {
  "kernelspec": {
   "display_name": "Python 3 (ipykernel)",
   "language": "python",
   "name": "python3"
  },
  "language_info": {
   "codemirror_mode": {
    "name": "ipython",
    "version": 3
   },
   "file_extension": ".py",
   "mimetype": "text/x-python",
   "name": "python",
   "nbconvert_exporter": "python",
   "pygments_lexer": "ipython3",
   "version": "3.12.0"
  }
 },
 "nbformat": 4,
 "nbformat_minor": 5
}
