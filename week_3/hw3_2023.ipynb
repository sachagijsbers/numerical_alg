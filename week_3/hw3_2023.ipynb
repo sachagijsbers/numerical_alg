{
 "cells": [
  {
   "cell_type": "markdown",
   "id": "8adb98fb-0d56-485e-986c-8a04c70b6020",
   "metadata": {
    "nbgrader": {
     "grade": false,
     "grade_id": "cell-06d3e5bf55c941ae",
     "locked": true,
     "schema_version": 3,
     "solution": false,
     "task": false
    },
    "tags": []
   },
   "source": [
    "# Homework set 3"
   ]
  },
  {
   "cell_type": "markdown",
   "id": "f4d542f2-53a5-4571-996a-63307f888ed9",
   "metadata": {
    "nbgrader": {
     "grade": false,
     "grade_id": "cell-736ff6bc3e0d0696",
     "locked": true,
     "schema_version": 3,
     "solution": false,
     "task": false
    }
   },
   "source": [
    "Please **submit this Jupyter notebook through Canvas** no later than **Mon Nov. 20, 9:00**. **Submit the notebook file with your answers (as .ipynb file) and a pdf printout. The pdf version can be used by the teachers to provide feedback. A pdf version can be made using the save and export option in the Jupyter Lab file menu.**\n",
    "\n",
    "Homework is in **groups of two**, and you are expected to hand in original work. Work that is copied from another group will not be accepted."
   ]
  },
  {
   "cell_type": "markdown",
   "id": "5481631d-7c59-4b2f-be95-4a73568ad33c",
   "metadata": {
    "nbgrader": {
     "grade": false,
     "grade_id": "cell-b13bc5ed16bce8e0",
     "locked": true,
     "schema_version": 3,
     "solution": false,
     "task": false
    }
   },
   "source": [
    "# Exercise 0\n",
    "Write down the names + student ID of the people in your group."
   ]
  },
  {
   "cell_type": "markdown",
   "id": "423fae09-7e59-46ff-b4f6-0a4395438b2d",
   "metadata": {
    "nbgrader": {
     "grade": true,
     "grade_id": "cell-fd464f55ba436b1c",
     "locked": false,
     "points": 0,
     "schema_version": 3,
     "solution": true,
     "task": false
    }
   },
   "source": [
    "Loes Bijman 15211312\n",
    "\n",
    "Sacha Gijsbers 12798525"
   ]
  },
  {
   "cell_type": "markdown",
   "id": "de187452-d370-4a1c-bfc9-2bad40f45833",
   "metadata": {
    "nbgrader": {
     "grade": false,
     "grade_id": "cell-b5a7855ecca9f6be",
     "locked": true,
     "schema_version": 3,
     "solution": false,
     "task": false
    }
   },
   "source": [
    "Run the following cell to import NumPy and Pyplot."
   ]
  },
  {
   "cell_type": "code",
   "execution_count": 34,
   "id": "1599c119-77a5-42e3-936a-6f6515e88e35",
   "metadata": {},
   "outputs": [],
   "source": [
    "import numpy as np\n",
    "import matplotlib.pyplot as plt"
   ]
  },
  {
   "cell_type": "markdown",
   "id": "33de5356-90ed-4fea-b7e5-396c316d1d4c",
   "metadata": {},
   "source": [
    "# Exercise 1"
   ]
  },
  {
   "cell_type": "markdown",
   "id": "73f6eb1d-666c-4aa7-8969-f30895ec0c76",
   "metadata": {},
   "source": [
    "In this exercise you will study the accuracy of several methods for computing the QR decomposition. You are asked to implement these methods yourself. (However, when testing your implementation you may compare with an external implementation.)\n"
   ]
  },
  {
   "cell_type": "markdown",
   "id": "0880f0a3-e3ed-4dbd-bdc5-40ccfb753978",
   "metadata": {},
   "source": [
    "## (a) \n",
    "Implement the classical and modified Gram-Schmidt procedures for computing the QR decomposition.\n",
    "\n",
    "Include a short documentation using triple quotes: describe at least the input and the output, and whether the code modifies the input matrix.\n"
   ]
  },
  {
   "cell_type": "code",
   "execution_count": 35,
   "metadata": {},
   "outputs": [
    {
     "name": "stdout",
     "output_type": "stream",
     "text": [
      "[[1 1 0]\n",
      " [1 0 1]\n",
      " [0 1 1]]\n",
      "[[ 0.70710678  0.40824829 -0.57735027]\n",
      " [ 0.70710678 -0.40824829  0.57735027]\n",
      " [ 0.          0.81649658  0.57735027]]\n",
      "[[1.41421356 0.70710678 0.70710678]\n",
      " [0.         1.22474487 0.40824829]\n",
      " [0.         0.         1.15470054]]\n",
      "[[ 0.70703125  0.40820312 -0.57763672]\n",
      " [ 0.70703125 -0.40820312  0.57763672]\n",
      " [ 0.          0.81640625  0.57763672]]\n",
      "[[1.4140625  0.70703125 0.70703125]\n",
      " [0.         1.22460938 0.40820312]\n",
      " [0.         0.         1.15499139]]\n"
     ]
    }
   ],
   "source": [
    "def classical_gram_schmidt(A):\n",
    "    '''\n",
    "    input: matrix A as numpy array\n",
    "    output: Q,R decomposition: Q orthogonal matrix and R upper triangular matrix as numpy\n",
    "    arrays. \n",
    "    Input matrix A is not modified in the process.\n",
    "    '''\n",
    "    n_rows,n_columns = A.shape\n",
    "    Q = np.zeros((n_rows,n_columns))\n",
    "    R = np.zeros((n_columns,n_columns))\n",
    "\n",
    "    for k in range(0,n_columns):\n",
    "        Q[:,k] = A[:,k]\n",
    "\n",
    "        for j in range(0,k):\n",
    "            r_jk = np.dot(Q[:,k],Q[:,j])\n",
    "            Q[:,k] -= r_jk*Q[:,j]\n",
    "            R[j,k] = np.dot(A[:,k],Q[:,j])\n",
    "\n",
    "        if np.linalg.norm(Q[:,k]):\n",
    "            Q[:,k] = list(Q[:,k]/np.linalg.norm(Q[:,k]))\n",
    "            R[k,k] = np.dot(A[:,k],Q[:,k])\n",
    "        else:\n",
    "            print('linearly dependent')\n",
    "            return A,R\n",
    "        \n",
    "    zeros = np.zeros((n_rows-n_columns,n_columns))\n",
    "    R = np.concatenate((R,zeros),axis=0)\n",
    "    return Q, R\n",
    "\n",
    "def modified_gram_schmidt(A):\n",
    "    '''\n",
    "    input: matrix A as numpy array\n",
    "    output: Q,R decomposition: Q orthogonal matrix and R upper triangular matrix as numpy\n",
    "    arrays. \n",
    "    Input matrix A is modified in the process.\n",
    "    '''\n",
    "    A = A.astype(np.float16)\n",
    "    n_rows,n_columns = A.shape\n",
    "    Q = np.zeros((n_rows,n_columns))\n",
    "    R = np.zeros((n_columns,n_columns))\n",
    "\n",
    "    for k in range(0,n_columns):\n",
    "        rkk = np.linalg.norm(A[:,k])\n",
    "\n",
    "        if rkk != 0:\n",
    "            Q[:,k] = A[:,k]/rkk\n",
    "\n",
    "        for j in range(k+1,n_columns):\n",
    "            r_kj = np.dot(Q[:,k],A[:,j])\n",
    "            R[k,j] = np.dot(A[:,j],Q[:,k])\n",
    "            A[:,j] -= r_kj*Q[:,k]\n",
    "    \n",
    "        R[k,k] = np.dot(A[:,k],Q[:,k])\n",
    "\n",
    "    zeros = np.zeros((n_rows-n_columns,n_columns))\n",
    "    R = np.concatenate((R,zeros),axis=0)\n",
    "\n",
    "    return Q, R\n",
    "\n",
    "A = np.array([[1,1,0],[1,0,1],[0,1,1]])\n",
    "print(A)\n",
    "Q, R = classical_gram_schmidt(A)\n",
    "print(Q)\n",
    "print(R)\n",
    "\n",
    "Q, R = modified_gram_schmidt(A)\n",
    "print(Q)\n",
    "print(R)"
   ]
  },
  {
   "cell_type": "markdown",
   "id": "a337d211-e9b2-4157-9d85-a3635efb3431",
   "metadata": {},
   "source": [
    "## (b) (a+b 3.5 pts)\n",
    "Let $H$ be a Hilbert matrix of size $n$ (see Computer Problem 2.6). Study the quality of the QR decompositions obtained using the two methods of part (a), specifically the loss of orthogonality. In order to do so, plot the quantity $\\| I - Q^T Q \\|$ as a function of $n$ on a log scale. Vary $n$ from $2$ to $12$.\n",
    "\n"
   ]
  },
  {
   "cell_type": "code",
   "execution_count": 36,
   "id": "cff553c1-4044-4683-9555-f8a0f741f66e",
   "metadata": {},
   "outputs": [
    {
     "data": {
      "image/png": "[encoded data removed]",
      "text/plain": [
       "<Figure size 640x480 with 1 Axes>"
      ]
     },
     "metadata": {},
     "output_type": "display_data"
    }
   ],
   "source": [
    "def hilbert(n):\n",
    "    H = np.zeros((n,n))\n",
    "    for i in range(1,n+1):\n",
    "        for j in range(1,n+1):\n",
    "            H[i-1,j-1] = 1/(i+j-1)\n",
    "    return H\n",
    "\n",
    "quant_class, quant_mod = [], []\n",
    "n_list = range(2,13)\n",
    "for n in n_list:\n",
    "    H = hilbert(n)\n",
    "    Q_class = classical_gram_schmidt(H)[0]\n",
    "    quant_class.append(np.linalg.norm(np.identity(n) - np.matmul(Q_class.T,Q_class)))\n",
    "    Q_mod = modified_gram_schmidt(H)[0]\n",
    "    quant_mod.append(np.linalg.norm(np.identity(n) - np.matmul(Q_mod.T,Q_mod)))\n",
    "\n",
    "plt.plot(n_list,quant_class, label = 'classical')\n",
    "plt.plot(n_list,quant_mod, label = 'modified')\n",
    "plt.yscale('log')\n",
    "plt.xlabel('matrix size ($n$)')\n",
    "plt.ylabel('error ($||I - Q^TQ||$)')\n",
    "plt.legend()\n",
    "plt.show()\n"
   ]
  },
  {
   "cell_type": "markdown",
   "id": "f2d6cf46-3796-405b-ab46-bc9575a5f648",
   "metadata": {},
   "source": [
    "## (c) (1.5 pts)\n",
    "Try applying the classical procedure twice. Plot again the loss of orthogonality when computing the QR decomposition of the Hilbert matrix of size $n$ as in (b).\n"
   ]
  },
  {
   "cell_type": "code",
   "execution_count": 37,
   "id": "b4574283-5b0e-4f54-a0e4-727a9246db7e",
   "metadata": {},
   "outputs": [
    {
     "data": {
      "image/png": "[encoded data removed]",
      "text/plain": [
       "<Figure size 640x480 with 1 Axes>"
      ]
     },
     "metadata": {},
     "output_type": "display_data"
    }
   ],
   "source": [
    "quant_class = []\n",
    "n_list = range(2,13)\n",
    "for n in n_list:\n",
    "    H = hilbert(n)\n",
    "    Q_class_1 = classical_gram_schmidt(H)[0]\n",
    "    Q_class = classical_gram_schmidt(Q_class_1)[0]\n",
    "    quant_class.append(np.linalg.norm(np.identity(n) - np.matmul(Q_class.T,Q_class)))\n",
    "    \n",
    "\n",
    "plt.plot(n_list,quant_class, label = 'classical')\n",
    "plt.yscale('log')\n",
    "plt.xlabel('matrix size ($n$)')\n",
    "plt.ylabel('error ($||I - Q^TQ||$)')\n",
    "plt.legend()\n",
    "plt.show()"
   ]
  },
  {
   "cell_type": "markdown",
   "id": "d61d724c-3216-4742-9c8c-f411ad437193",
   "metadata": {},
   "source": [
    "## (d) (2 pts)\n",
    "Implement the Householder method for computing the QR decomposition. Remember to include a short documentation."
   ]
  },
  {
   "cell_type": "code",
   "execution_count": 93,
   "id": "a5fa9b4f-4a69-4dcf-bee4-23e67746ed06",
   "metadata": {},
   "outputs": [
    {
     "name": "stdout",
     "output_type": "stream",
     "text": [
      "[[ 2.     3.     2.   ]\n",
      " [ 0.     0.     0.   ]\n",
      " [ 0.     0.     4.473]\n",
      " [ 0.     5.    -0.   ]]\n"
     ]
    }
   ],
   "source": [
    "\n",
    "def householder_qr(A):\n",
    "    A = A.astype(np.float16)\n",
    "    n_rows, n_columns = A.shape\n",
    "    for k in range(0, min(n_columns, n_rows - 1)):\n",
    "        sum_row = 0\n",
    "        a_ik = []\n",
    "        for i in range(k, n_rows):\n",
    "            sum_row += A[i,k]**2\n",
    "            a_ik.append(A[i,k])\n",
    "        \n",
    "        a_ik = np.array(a_ik)\n",
    "        alpha_k = np.sign(A[k,k])*np.sqrt(sum_row)\n",
    "        zeros = np.zeros((1,n_rows-len(a_ik)))[0]\n",
    "        # print(zeros)\n",
    "\n",
    "        e = np.zeros((n_rows, 1))\n",
    "        e[k] = 1\n",
    "\n",
    "        # print(a_ik)\n",
    "        v_k = (np.concatenate((zeros, a_ik)) - (alpha_k*e).T)[0]\n",
    "        # print(v_k)\n",
    "        beta_k = np.dot(v_k, v_k)\n",
    "        # print(beta_k)\n",
    "        if beta_k != 0:\n",
    "            for j in range(k, n_columns):\n",
    "                gamma_j = np.dot(v_k, A[:,j])\n",
    "                A[:,j] -= (2*gamma_j)/beta_k*v_k\n",
    "    \n",
    "    return A\n",
    "\n",
    "H = hilbert(5)\n",
    "A = np.array([[1, -1, 4], [1, 4, -2], [1, 4, 2], [1, -1, 0]])\n",
    "Bla = householder_qr(A)\n",
    "print(Bla)"
   ]
  },
  {
   "cell_type": "markdown",
   "id": "35df642d-7348-407a-9755-b8ac03045541",
   "metadata": {},
   "source": [
    "## (e) (2 pts)\n",
    "Perform the analysis of (b) for the Householder method. Discuss the differences between all the methods you have tested so far. Look online and/or in books for information about the accuracy of the different methods and include this in your explanations (with reference).\n"
   ]
  },
  {
   "cell_type": "code",
   "execution_count": 39,
   "id": "eb790bfb-2f80-4630-aeb6-30ff0b604cc7",
   "metadata": {},
   "outputs": [],
   "source": [
    "# YOUR CODE HERE"
   ]
  },
  {
   "cell_type": "markdown",
   "id": "b59a127c-1f5f-4122-927c-20b0e90c5cb4",
   "metadata": {},
   "source": []
  },
  {
   "cell_type": "code",
   "execution_count": null,
   "id": "93b0db7a-3c04-4312-8125-58d10d80a8d5",
   "metadata": {},
   "outputs": [],
   "source": []
  }
 ],
 "metadata": {
  "kernelspec": {
   "display_name": "Python 3 (ipykernel)",
   "language": "python",
   "name": "python3"
  },
  "language_info": {
   "codemirror_mode": {
    "name": "ipython",
    "version": 3
   },
   "file_extension": ".py",
   "mimetype": "text/x-python",
   "name": "python",
   "nbconvert_exporter": "python",
   "pygments_lexer": "ipython3",
   "version": "3.12.0"
  }
 },
 "nbformat": 4,
 "nbformat_minor": 5
}
